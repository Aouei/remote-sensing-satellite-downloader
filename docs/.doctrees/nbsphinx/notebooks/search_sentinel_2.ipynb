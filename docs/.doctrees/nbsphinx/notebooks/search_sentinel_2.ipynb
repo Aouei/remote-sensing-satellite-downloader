{
 "cells": [
  {
   "cell_type": "markdown",
   "id": "2445564d",
   "metadata": {},
   "source": [
    "# Search and Download Sentinel-2 Images"
   ]
  },
  {
   "cell_type": "markdown",
   "id": "9d695bdf",
   "metadata": {},
   "source": [
    "## Imports"
   ]
  },
  {
   "cell_type": "code",
   "execution_count": null,
   "id": "33046383",
   "metadata": {},
   "outputs": [],
   "source": [
    "from sat_download.services import SatelliteImageDownloader\n",
    "from sat_download.api import ODataAPI\n",
    "from sat_download.data_types import SearchFilters"
   ]
  },
  {
   "cell_type": "markdown",
   "id": "f74a1747",
   "metadata": {},
   "source": [
    "## Search & Download"
   ]
  },
  {
   "cell_type": "code",
   "execution_count": null,
   "id": "7baa8566",
   "metadata": {},
   "outputs": [
    {
     "name": "stdout",
     "output_type": "stream",
     "text": [
      "Product ID: 5232b7c6-8150-4fc1-a672-03f5b35b25bc, Data: SatelliteImage(uuid='20241029_S2A', date='20241029', sensor='Sentinel-2', brother='A', identifier='Sentinel-2A', filename='S2A_MSIL1C_20241029T110201_N0511_R094_T30TWM_20241029T130146.zip', tile='30TWM')\n",
      "Product ID: 6fdfd390-2e05-4fcc-8ba8-dd1b2f8acbd5, Data: SatelliteImage(uuid='20241027_S2B', date='20241027', sensor='Sentinel-2', brother='B', identifier='Sentinel-2B', filename='S2B_MSIL1C_20241027T111059_N0511_R137_T30TWM_20241027T120626.zip', tile='30TWM')\n"
     ]
    },
    {
     "name": "stderr",
     "output_type": "stream",
     "text": [
      "Downloading image at S2A_MSIL1C_20241029T110201_N0511_R094_T30TWM_20241029T130146.zip: 676MB [02:56,  3.83MB/s]                         \n",
      "Downloading image at S2B_MSIL1C_20241027T111059_N0511_R137_T30TWM_20241027T120626.zip: 122MB [00:28,  4.27MB/s]                         \n"
     ]
    }
   ],
   "source": [
    "service = SatelliteImageDownloader(ODataAPI(username = '', password = ''))\n",
    "\n",
    "filters = SearchFilters(\n",
    "    collection = \"SENTINEL-2\",\n",
    "    processing_level = \"L1C\",\n",
    "    start_date = \"2024-10-25\",\n",
    "    end_date = \"2024-10-31\",\n",
    "    tile_id = \"30TWM\",\n",
    ")\n",
    "\n",
    "products = service.search(filters)\n",
    "for product_id, product_data in products.items():\n",
    "    print(f\"Product ID: {product_id}, Data: {product_data}\")\n",
    "\n",
    "service.bulk_download(products, '.')"
   ]
  }
 ],
 "metadata": {
  "kernelspec": {
   "display_name": ".venv",
   "language": "python",
   "name": "python3"
  },
  "language_info": {
   "codemirror_mode": {
    "name": "ipython",
    "version": 3
   },
   "file_extension": ".py",
   "mimetype": "text/x-python",
   "name": "python",
   "nbconvert_exporter": "python",
   "pygments_lexer": "ipython3",
   "version": "3.11.9"
  }
 },
 "nbformat": 4,
 "nbformat_minor": 5
}
